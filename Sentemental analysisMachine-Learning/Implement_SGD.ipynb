{
 "cells": [
  {
   "cell_type": "code",
   "execution_count": 1,
   "metadata": {
    "colab": {},
    "colab_type": "code",
    "id": "REYPoTJ1Af7u"
   },
   "outputs": [],
   "source": [
    "import warnings\n",
    "warnings.filterwarnings(\"ignore\")\n",
    "from sklearn.datasets import load_boston\n",
    "from random import seed\n",
    "from random import randrange\n",
    "from csv import reader\n",
    "from math import sqrt\n",
    "from sklearn import preprocessing\n",
    "import pandas as pd\n",
    "import numpy as np\n",
    "import matplotlib.pyplot as plt\n",
    "from prettytable import PrettyTable\n",
    "from sklearn.linear_model import SGDRegressor\n",
    "from sklearn import preprocessing\n",
    "from sklearn.metrics import mean_squared_error"
   ]
  },
  {
   "cell_type": "markdown",
   "metadata": {},
   "source": [
    "### Data Preprocessing"
   ]
  },
  {
   "cell_type": "code",
   "execution_count": 2,
   "metadata": {
    "colab": {},
    "colab_type": "code",
    "id": "NTQ2iH-kAwbo"
   },
   "outputs": [
    {
     "data": {
      "text/html": [
       "<div>\n",
       "<style scoped>\n",
       "    .dataframe tbody tr th:only-of-type {\n",
       "        vertical-align: middle;\n",
       "    }\n",
       "\n",
       "    .dataframe tbody tr th {\n",
       "        vertical-align: top;\n",
       "    }\n",
       "\n",
       "    .dataframe thead th {\n",
       "        text-align: right;\n",
       "    }\n",
       "</style>\n",
       "<table border=\"1\" class=\"dataframe\">\n",
       "  <thead>\n",
       "    <tr style=\"text-align: right;\">\n",
       "      <th></th>\n",
       "      <th>CRIM</th>\n",
       "      <th>ZN</th>\n",
       "      <th>INDUS</th>\n",
       "      <th>CHAS</th>\n",
       "      <th>NOX</th>\n",
       "      <th>RM</th>\n",
       "      <th>AGE</th>\n",
       "      <th>DIS</th>\n",
       "      <th>RAD</th>\n",
       "      <th>TAX</th>\n",
       "      <th>PTRATIO</th>\n",
       "      <th>B</th>\n",
       "      <th>LSTAT</th>\n",
       "    </tr>\n",
       "  </thead>\n",
       "  <tbody>\n",
       "    <tr>\n",
       "      <th>0</th>\n",
       "      <td>0.00632</td>\n",
       "      <td>18.0</td>\n",
       "      <td>2.31</td>\n",
       "      <td>0.0</td>\n",
       "      <td>0.538</td>\n",
       "      <td>6.575</td>\n",
       "      <td>65.2</td>\n",
       "      <td>4.0900</td>\n",
       "      <td>1.0</td>\n",
       "      <td>296.0</td>\n",
       "      <td>15.3</td>\n",
       "      <td>396.90</td>\n",
       "      <td>4.98</td>\n",
       "    </tr>\n",
       "    <tr>\n",
       "      <th>1</th>\n",
       "      <td>0.02731</td>\n",
       "      <td>0.0</td>\n",
       "      <td>7.07</td>\n",
       "      <td>0.0</td>\n",
       "      <td>0.469</td>\n",
       "      <td>6.421</td>\n",
       "      <td>78.9</td>\n",
       "      <td>4.9671</td>\n",
       "      <td>2.0</td>\n",
       "      <td>242.0</td>\n",
       "      <td>17.8</td>\n",
       "      <td>396.90</td>\n",
       "      <td>9.14</td>\n",
       "    </tr>\n",
       "    <tr>\n",
       "      <th>2</th>\n",
       "      <td>0.02729</td>\n",
       "      <td>0.0</td>\n",
       "      <td>7.07</td>\n",
       "      <td>0.0</td>\n",
       "      <td>0.469</td>\n",
       "      <td>7.185</td>\n",
       "      <td>61.1</td>\n",
       "      <td>4.9671</td>\n",
       "      <td>2.0</td>\n",
       "      <td>242.0</td>\n",
       "      <td>17.8</td>\n",
       "      <td>392.83</td>\n",
       "      <td>4.03</td>\n",
       "    </tr>\n",
       "  </tbody>\n",
       "</table>\n",
       "</div>"
      ],
      "text/plain": [
       "      CRIM    ZN  INDUS  CHAS    NOX     RM   AGE     DIS  RAD    TAX  \\\n",
       "0  0.00632  18.0   2.31   0.0  0.538  6.575  65.2  4.0900  1.0  296.0   \n",
       "1  0.02731   0.0   7.07   0.0  0.469  6.421  78.9  4.9671  2.0  242.0   \n",
       "2  0.02729   0.0   7.07   0.0  0.469  7.185  61.1  4.9671  2.0  242.0   \n",
       "\n",
       "   PTRATIO       B  LSTAT  \n",
       "0     15.3  396.90   4.98  \n",
       "1     17.8  396.90   9.14  \n",
       "2     17.8  392.83   4.03  "
      ]
     },
     "execution_count": 2,
     "metadata": {},
     "output_type": "execute_result"
    }
   ],
   "source": [
    "X = load_boston().data\n",
    "Y = load_boston().target\n",
    "# data overview\n",
    "boston_data=pd.DataFrame(load_boston().data,columns=load_boston().feature_names)\n",
    "# data overview\n",
    "boston_data.head(3)"
   ]
  },
  {
   "cell_type": "code",
   "execution_count": 3,
   "metadata": {},
   "outputs": [
    {
     "name": "stdout",
     "output_type": "stream",
     "text": [
      "(354, 13)\n",
      "(152, 13)\n",
      "(354,)\n",
      "(152,)\n"
     ]
    }
   ],
   "source": [
    "from sklearn.model_selection import train_test_split\n",
    "X_train, X_test, Y_train, Y_test = train_test_split(X, Y, test_size = 0.3, random_state=5)\n",
    "print(X_train.shape)\n",
    "print(X_test.shape)\n",
    "print(Y_train.shape)\n",
    "print(Y_test.shape)"
   ]
  },
  {
   "cell_type": "code",
   "execution_count": 4,
   "metadata": {},
   "outputs": [],
   "source": [
    "# standardizing data\n",
    "from sklearn import preprocessing\n",
    "scaler = preprocessing.StandardScaler().fit(X_train)\n",
    "X_train = scaler.transform(X_train)\n",
    "X_test=scaler.transform(X_test)"
   ]
  },
  {
   "cell_type": "code",
   "execution_count": 5,
   "metadata": {},
   "outputs": [
    {
     "name": "stdout",
     "output_type": "stream",
     "text": [
      "(354, 13)\n",
      "(152, 13)\n",
      "(354,)\n",
      "(152,)\n"
     ]
    }
   ],
   "source": [
    "X_test=np.array(X_test)\n",
    "Y_test=np.array(Y_test)\n",
    "# shape of test and train data matxis\n",
    "print(X_train.shape)\n",
    "print(X_test.shape)\n",
    "print(Y_train.shape)\n",
    "print(Y_test.shape)\n"
   ]
  },
  {
   "cell_type": "markdown",
   "metadata": {},
   "source": [
    "### Training and testing the model\n",
    "scikit-learn’s LinearRegression to train our model on both the training and test\n",
    "sets."
   ]
  },
  {
   "cell_type": "code",
   "execution_count": 6,
   "metadata": {},
   "outputs": [
    {
     "data": {
      "image/png": "[encoded data removed]",
      "text/plain": [
       "<Figure size 432x288 with 1 Axes>"
      ]
     },
     "metadata": {
      "needs_background": "light"
     },
     "output_type": "display_data"
    },
    {
     "name": "stdout",
     "output_type": "stream",
     "text": [
      "Mean Squared Error : 30.697037704088565\n",
      "Mean Absolute Error : 3.557668475650041\n"
     ]
    }
   ],
   "source": [
    "from sklearn.linear_model import LinearRegression\n",
    "from sklearn.metrics import mean_squared_error\n",
    "from sklearn.metrics import mean_absolute_error\n",
    "lin_model = LinearRegression()\n",
    "lin_model.fit(X_train, Y_train)\n",
    "\n",
    "plt.scatter(Y_test,lin_model.predict(X_test))\n",
    "plt.grid()\n",
    "plt.xlabel('Actual house price')\n",
    "plt.ylabel('Predicted house price')\n",
    "plt.title('scatter plot between actual house price and predicted house price')\n",
    "plt.show()\n",
    "print('Mean Squared Error :',mean_squared_error(Y_test, lin_model.predict(X_test)))\n",
    "print('Mean Absolute Error :',mean_absolute_error(Y_test, lin_model.predict(X_test)))"
   ]
  },
  {
   "cell_type": "markdown",
   "metadata": {},
   "source": [
    "### Model evaluation\n",
    "We will evaluate our model using RMSE and R2-score"
   ]
  },
  {
   "cell_type": "code",
   "execution_count": 7,
   "metadata": {},
   "outputs": [
    {
     "name": "stdout",
     "output_type": "stream",
     "text": [
      "The model performance for training set\n",
      "--------------------------------------\n",
      "RMSE is 4.366731254717563\n",
      "R2 score is 0.7611598772034454\n",
      "\n",
      "\n",
      "The model performance for testing set\n",
      "--------------------------------------\n",
      "RMSE is 5.540490745781331\n",
      "R2 score is 0.6771696999851694\n"
     ]
    }
   ],
   "source": [
    "# model evaluation for training set\n",
    "from sklearn.metrics import r2_score\n",
    "y_train_predict = lin_model.predict(X_train)\n",
    "rmse = (np.sqrt(mean_squared_error(Y_train, y_train_predict)))\n",
    "r2 = r2_score(Y_train, y_train_predict)\n",
    "print(\"The model performance for training set\")\n",
    "print(\"--------------------------------------\")\n",
    "print('RMSE is {}'.format(rmse))\n",
    "print('R2 score is {}'.format(r2))\n",
    "print(\"\\n\")\n",
    "# model evaluation for testing set\n",
    "y_test_predict = lin_model.predict(X_test)\n",
    "rmse = (np.sqrt(mean_squared_error(Y_test, y_test_predict)))\n",
    "r2 = r2_score(Y_test, y_test_predict)\n",
    "print(\"The model performance for testing set\")\n",
    "print(\"--------------------------------------\")\n",
    "print('RMSE is {}'.format(rmse))\n",
    "print('R2 score is {}'.format(r2))"
   ]
  },
  {
   "cell_type": "code",
   "execution_count": 8,
   "metadata": {},
   "outputs": [],
   "source": [
    "def predict(x,w,b):\n",
    "    y_pred=[]\n",
    "    for i in range(len(x)):\n",
    "        y=np.asscalar(np.dot(w,x[i])+b)\n",
    "        y_pred.append(y)\n",
    "    return np.array(y_pred)\n"
   ]
  },
  {
   "cell_type": "code",
   "execution_count": 9,
   "metadata": {},
   "outputs": [],
   "source": [
    "def plot_(test_data,y_pred):\n",
    "    #scatter plot\n",
    "    plt.scatter(test_data,y_pred)\n",
    "    plt.grid()\n",
    "    plt.title('scatter plot between actual house price and predicted house price')\n",
    "    plt.xlabel('actual house price')\n",
    "    plt.ylabel('predicted house price')\n",
    "    plt.show()"
   ]
  },
  {
   "cell_type": "code",
   "execution_count": 10,
   "metadata": {},
   "outputs": [],
   "source": [
    "def CustomGradientDescentRegressor(train_data,learning_rate=0.001,n_itr=1000,k=10):\n",
    "    w_cur=np.zeros(shape=(1,train_data.shape[1]-1))\n",
    "    b_cur=0\n",
    "    cur_itr=1\n",
    "    while(cur_itr<=n_itr):\n",
    "        w_old=w_cur\n",
    "        b_old=b_cur\n",
    "        w_temp=np.zeros(shape=(1,train_data.shape[1]-1))\n",
    "        b_temp=0\n",
    "        temp=train_data.sample(k)\n",
    "        #print(temp.head(3))\n",
    "        y=np.array(temp['price'])\n",
    "        x=np.array(temp.drop('price',axis=1))\n",
    "        for i in range(k):\n",
    "            w_temp+=x[i]*(y[i]-(np.dot(w_old,x[i])+b_old))*(-2/k)\n",
    "            b_temp+=(y[i]-(np.dot(w_old,x[i])+b_old))*(-2/k)\n",
    "        w_cur=w_old-learning_rate*w_temp/k\n",
    "        b_cur=b_old-learning_rate*b_temp/k\n",
    "        if(w_old==w_cur).all():\n",
    "            break\n",
    "        cur_itr+=1\n",
    "    return w_cur,b_cur"
   ]
  },
  {
   "cell_type": "code",
   "execution_count": 11,
   "metadata": {},
   "outputs": [],
   "source": [
    "# Funtion to get optimal learning rate on the implemented SGD Classifier\n",
    "from math import log\n",
    "from sklearn.preprocessing import Normalizer\n",
    "normalizer = Normalizer()\n",
    "\n",
    "x1_train,x1_test,y1_train,y1_test=train_test_split(X,Y,test_size=0.3)\n",
    "x1_train,x1_cv,y1_train_,y1_cv_=train_test_split(x1_train,y1_train,test_size=0.3)\n",
    "x1_train = normalizer.transform(x1_train)\n",
    "x1_cv=normalizer.transform(x1_cv)\n",
    "x1_train_=np.array(x1_train)\n",
    "x1_train_data=pd.DataFrame(x1_train)\n",
    "x1_train_data['price']=y1_train_\n",
    "x1_cv_data=pd.DataFrame(x1_cv)\n",
    "x1_cv_data['price']=y1_cv_\n",
    "y1_train_=np.array(y1_train_)\n",
    "y1_cv_=np.array(y1_cv_)\n",
    "#print(y1_cv_.shape)\n",
    "\n",
    "def tuneParams_learning_rate():\n",
    "    train_error=[]\n",
    "    cv_error=[]\n",
    "    r=[0.00001,0.0001,0.001,0.01,0.1]\n",
    "    for itr in r:\n",
    "        w,b=CustomGradientDescentRegressor(x1_train_data,learning_rate=itr,n_itr=1000)\n",
    "        # print(w.shape,b.shape,x1_train_.shape)\n",
    "        y1_pred_train=predict(x1_train_,w,b)\n",
    "        train_error.append(mean_squared_error(y1_train_,y1_pred_train))\n",
    "        w,b=CustomGradientDescentRegressor(x1_cv_data,learning_rate=itr,n_itr=1000)\n",
    "        y1_pred_cv=predict(x1_cv,w,b)\n",
    "        cv_error.append(mean_squared_error(y1_cv_,y1_pred_cv))\n",
    "    return train_error,cv_error"
   ]
  },
  {
   "cell_type": "code",
   "execution_count": 12,
   "metadata": {},
   "outputs": [],
   "source": [
    "train_error,cv_error=tuneParams_learning_rate()"
   ]
  },
  {
   "cell_type": "markdown",
   "metadata": {},
   "source": [
    "### SGD with optimal learning rate"
   ]
  },
  {
   "cell_type": "code",
   "execution_count": 13,
   "metadata": {},
   "outputs": [
    {
     "data": {
      "text/plain": [
       "Text(0, 0.5, 'Mean Squared Error')"
      ]
     },
     "execution_count": 13,
     "metadata": {},
     "output_type": "execute_result"
    },
    {
     "data": {
      "image/png": "[encoded data removed]",
      "text/plain": [
       "<Figure size 432x288 with 1 Axes>"
      ]
     },
     "metadata": {
      "needs_background": "light"
     },
     "output_type": "display_data"
    }
   ],
   "source": [
    "# plotting obtained values\n",
    "import math\n",
    "r=[0.00001,0.0001,0.001,0.01,0.1]\n",
    "x1=[math.log10(i) for i in r]\n",
    "plt.plot(x1,train_error,label='train MSE')\n",
    "plt.plot(x1,cv_error,label='CV MSE')\n",
    "plt.scatter(x1,train_error)\n",
    "plt.scatter(x1,cv_error)\n",
    "plt.legend()\n",
    "plt.xlabel('log of learning rate')\n",
    "plt.ylabel('Mean Squared Error')"
   ]
  },
  {
   "cell_type": "code",
   "execution_count": 14,
   "metadata": {},
   "outputs": [
    {
     "data": {
      "image/png": "[encoded data removed]",
      "text/plain": [
       "<Figure size 432x288 with 1 Axes>"
      ]
     },
     "metadata": {
      "needs_background": "light"
     },
     "output_type": "display_data"
    },
    {
     "name": "stdout",
     "output_type": "stream",
     "text": [
      "407.0897448317865\n",
      "18.72037628266577\n"
     ]
    }
   ],
   "source": [
    "# running implemented SGD Classifier with obtained optimal learning rate\n",
    "\n",
    "# standardizing data\n",
    "scaler = preprocessing.StandardScaler().fit(X_train)\n",
    "X_train = scaler.transform(X_train)\n",
    "X_test=scaler.transform(X_test)\n",
    "\n",
    "train_data=pd.DataFrame(X_train)\n",
    "train_data['price']=Y_train\n",
    "train_data.head(3)\n",
    "\n",
    "w,b=CustomGradientDescentRegressor(train_data,learning_rate=0.001,n_itr=1000)\n",
    "y_pred=predict(X_test,w,b)\n",
    "plot_(Y_test,y_pred)\n",
    "\n",
    "# Errors in implemeted model\n",
    "print(mean_squared_error(Y_test,y_pred))\n",
    "print(mean_absolute_error(Y_test,y_pred))"
   ]
  },
  {
   "cell_type": "markdown",
   "metadata": {},
   "source": [
    "### Comparing Models"
   ]
  },
  {
   "cell_type": "code",
   "execution_count": 15,
   "metadata": {},
   "outputs": [
    {
     "name": "stdout",
     "output_type": "stream",
     "text": [
      "+---------+---------------------------------------------------------------------------+--------------------+--------------------+\n",
      "|  Model  |                               Weight Vector                               |        MSE         |        MAE         |\n",
      "+---------+---------------------------------------------------------------------------+--------------------+--------------------+\n",
      "| sklearn |  [-1.27363359  0.94438381 -0.17050408  0.18568703 -1.48334986  2.80195533 | 30.697037704088523 | 3.5576684756500456 |\n",
      "|         |   -0.29987372 -2.72418289  2.77088061 -2.13961719 -2.08896111  1.15085564 |                    |                    |\n",
      "|         |                                -3.28764536]                               |                    |                    |\n",
      "|  custom | [[-0.44221964  0.41906133 -0.53858802  0.06924496 -0.42845355  1.01871314 | 407.0897448317865  | 18.72037628266577  |\n",
      "|         |   -0.42427858  0.20557453 -0.38055787 -0.49631308 -0.67312195  0.36036467 |                    |                    |\n",
      "|         |                                -0.96236716]]                              |                    |                    |\n",
      "+---------+---------------------------------------------------------------------------+--------------------+--------------------+\n"
     ]
    }
   ],
   "source": [
    "from prettytable import PrettyTable\n",
    "# MSE = mean squared error\n",
    "# MAE =mean absolute error\n",
    "\n",
    "# SkLearn SGD classifier predicted weight matrix\n",
    "sklearn_w=lin_model.coef_\n",
    "sklearn_w\n",
    "\n",
    "# weight vector obtained from impemented SGD Classifier\n",
    "custom_w=w\n",
    "custom_w\n",
    "\n",
    "x=PrettyTable()\n",
    "x.field_names=['Model','Weight Vector','MSE','MAE']\n",
    "x.add_row(['sklearn',sklearn_w,mean_squared_error(Y_test, lin_model.predict(X_test)),mean_absolute_error(Y_test, lin_model.predict(X_test))])\n",
    "x.add_row(['custom',custom_w,mean_squared_error(Y_test,y_pred),(mean_absolute_error(Y_test,y_pred))])\n",
    "print(x)"
   ]
  },
  {
   "cell_type": "code",
   "execution_count": 16,
   "metadata": {},
   "outputs": [
    {
     "name": "stdout",
     "output_type": "stream",
     "text": [
      "+--------------------------------+---------------------------------+\n",
      "| SKLearn Linear predicted value | Implemented SGD predicted value |\n",
      "+--------------------------------+---------------------------------+\n",
      "|       37.38997665507024        |        8.887231945314387        |\n",
      "|       31.567941925266958       |        9.499527309732441        |\n",
      "|       27.133738856870593       |        6.588559580441435        |\n",
      "|       6.551176248190249        |        -5.140072254048163       |\n",
      "|       33.69310848335396        |        9.399331030047158        |\n",
      "|       5.549193679561011        |        -5.151965111419517       |\n",
      "|       27.10005629259134        |        5.422311635158753        |\n",
      "|       29.829809857410336       |        6.8045855572056375       |\n",
      "|       26.446224206063096       |        5.185713147592359        |\n",
      "|       22.388735254918274       |        1.1343460206951623       |\n",
      "|       32.24739998445638        |         8.64744075139054        |\n",
      "|       21.74892355880308        |        5.336577443413589        |\n",
      "|       23.42369575482934        |        4.519186179828747        |\n",
      "|       33.57974606716836        |        9.019029641966544        |\n",
      "|       28.31450393032138        |         7.13159084083202        |\n",
      "+--------------------------------+---------------------------------+\n"
     ]
    }
   ],
   "source": [
    "sklearn_pred=lin_model.predict(X_test)\n",
    "implemented_pred=y_pred\n",
    "x=PrettyTable()\n",
    "x.field_names=['SKLearn Linear predicted value','Implemented SGD predicted value']\n",
    "for itr in range(15):\n",
    "    x.add_row([sklearn_pred[itr],implemented_pred[itr]])\n",
    "print(x)"
   ]
  },
  {
   "cell_type": "code",
   "execution_count": null,
   "metadata": {},
   "outputs": [],
   "source": []
  }
 ],
 "metadata": {
  "colab": {
   "name": "Untitled3.ipynb",
   "provenance": [],
   "version": "0.3.2"
  },
  "kernelspec": {
   "display_name": "Python 3",
   "language": "python",
   "name": "python3"
  },
  "language_info": {
   "codemirror_mode": {
    "name": "ipython",
    "version": 3
   },
   "file_extension": ".py",
   "mimetype": "text/x-python",
   "name": "python",
   "nbconvert_exporter": "python",
   "pygments_lexer": "ipython3",
   "version": "3.7.5"
  }
 },
 "nbformat": 4,
 "nbformat_minor": 1
}
